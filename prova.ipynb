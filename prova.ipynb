{
 "cells": [
  {
   "cell_type": "code",
   "execution_count": 1,
   "metadata": {},
   "outputs": [],
   "source": [
    "from pandas import DataFrame, read_sql\n",
    "from handler import *\n",
    "from sqlite3 import connect\n",
    "import pandas as pd\n",
    "from mashup import *\n",
    "import cultural_objects\n",
    "from cultural_objects import *"
   ]
  },
  {
   "cell_type": "code",
   "execution_count": 2,
   "metadata": {},
   "outputs": [
    {
     "data": {
      "text/plain": [
       "'patate'"
      ]
     },
     "execution_count": 2,
     "metadata": {},
     "output_type": "execute_result"
    }
   ],
   "source": [
    "for i in [1, 2, 3]:\n",
    "   ciao = 'patate'\n",
    "ciao"
   ]
  },
  {
   "cell_type": "code",
   "execution_count": 2,
   "metadata": {},
   "outputs": [
    {
     "name": "stdout",
     "output_type": "stream",
     "text": [
      "True\n"
     ]
    },
    {
     "data": {
      "text/plain": [
       "True"
      ]
     },
     "execution_count": 2,
     "metadata": {},
     "output_type": "execute_result"
    }
   ],
   "source": [
    "# upload metadata\n",
    "grp_endpoint = \" http://10.201.41.103:9999/blazegraph/\"\n",
    "metadata = MetadataUploadHandler()\n",
    "metadata.setDbPathOrUrl(grp_endpoint)\n",
    "print(metadata.pushDataToDb(\"data/meta.csv\"))\n",
    "\n",
    "# upload process\n",
    "rel_path = \"relational.db\"\n",
    "process = ProcessDataUploadHandler()\n",
    "process.setDbPathOrUrl(rel_path)\n",
    "process.pushDataToDb(\"data/process.json\")\n",
    "\n",
    "# create query handlers\n",
    "metadata_qh = MetadataQueryHandler()\n",
    "metadata_qh.setDbPathOrUrl(\" http://10.201.41.103:9999/blazegraph/\")\n",
    "\n",
    "process_qh = ProcessDataQueryHandler()\n",
    "process_qh.setDbPathOrUrl(rel_path)"
   ]
  },
  {
   "cell_type": "code",
   "execution_count": 4,
   "metadata": {},
   "outputs": [
    {
     "name": "stdout",
     "output_type": "stream",
     "text": [
      "<cultural_objects.Acquisition object at 0x11b6d5a90>\n",
      "2\n",
      "<cultural_objects.Exporting object at 0x11b6d4b90>\n",
      "2\n",
      "<cultural_objects.Modelling object at 0x11b6671d0>\n",
      "2\n",
      "<cultural_objects.Optimising object at 0x11b6d6060>\n",
      "2\n",
      "<cultural_objects.Processing object at 0x11b6d75f0>\n",
      "2\n",
      "<cultural_objects.Acquisition object at 0x11b664dd0>\n",
      "4\n",
      "<cultural_objects.Exporting object at 0x11b6d7590>\n",
      "4\n",
      "<cultural_objects.Modelling object at 0x11b6d5700>\n",
      "4\n",
      "<cultural_objects.Optimising object at 0x11b6d6c90>\n",
      "4\n",
      "<cultural_objects.Processing object at 0x11b6d77d0>\n",
      "4\n"
     ]
    }
   ],
   "source": [
    "advmashup = AdvancedMashup()\n",
    "advmashup.addMetadataHandler(metadata_qh)\n",
    "advmashup.addProcessHandler(process_qh)\n",
    "\n",
    "counter = 0\n",
    "for obj in advmashup.getActivitiesOnObjectsAuthoredBy(\"VIAF:100219162\"):\n",
    "    print(obj)\n",
    "    print(obj.refersTo().id)"
   ]
  },
  {
   "cell_type": "code",
   "execution_count": 14,
   "metadata": {},
   "outputs": [
    {
     "ename": "AttributeError",
     "evalue": "module 'pandas' has no attribute 'Dataframe'",
     "output_type": "error",
     "traceback": [
      "\u001b[0;31m---------------------------------------------------------------------------\u001b[0m",
      "\u001b[0;31mAttributeError\u001b[0m                            Traceback (most recent call last)",
      "Cell \u001b[0;32mIn[14], line 8\u001b[0m\n\u001b[1;32m      3\u001b[0m \u001b[38;5;28;01mwith\u001b[39;00m \u001b[38;5;28mopen\u001b[39m(\u001b[38;5;124m\"\u001b[39m\u001b[38;5;124mdata/process.json\u001b[39m\u001b[38;5;124m\"\u001b[39m, \u001b[38;5;124m\"\u001b[39m\u001b[38;5;124mr\u001b[39m\u001b[38;5;124m\"\u001b[39m, encoding\u001b[38;5;241m=\u001b[39m\u001b[38;5;124m\"\u001b[39m\u001b[38;5;124mutf-8\u001b[39m\u001b[38;5;124m\"\u001b[39m) \u001b[38;5;28;01mas\u001b[39;00m f:\n\u001b[1;32m      4\u001b[0m    json_doc \u001b[38;5;241m=\u001b[39m load(\n\u001b[1;32m      5\u001b[0m         f\n\u001b[1;32m      6\u001b[0m     )  \u001b[38;5;66;03m# load does not return an iterator but the strightforward object: a list of dicts, or a dict\u001b[39;00m\n\u001b[0;32m----> 8\u001b[0m \u001b[43mpd\u001b[49m\u001b[38;5;241;43m.\u001b[39;49m\u001b[43mDataframe\u001b[49m(columns\u001b[38;5;241m=\u001b[39mjson_doc[\u001b[38;5;241m0\u001b[39m][\u001b[38;5;124m'\u001b[39m\u001b[38;5;124macquisition\u001b[39m\u001b[38;5;124m'\u001b[39m]\u001b[38;5;241m.\u001b[39mkeys())\n",
      "\u001b[0;31mAttributeError\u001b[0m: module 'pandas' has no attribute 'Dataframe'"
     ]
    }
   ],
   "source": [
    "from json import load\n",
    "\n",
    "with open(\"data/process.json\", \"r\", encoding=\"utf-8\") as f:\n",
    "    json_doc = load(\n",
    "        f\n",
    "    )  # load does not return an iterator but the strightforward object: a list of dicts, or a dict\n",
    "\n",
    "DataFrame.from_dict()\n",
    "pd.Dataframe(columns=json_doc[0]['acquisition'].keys())"
   ]
  }
 ],
 "metadata": {
  "kernelspec": {
   "display_name": "Python 3",
   "language": "python",
   "name": "python3"
  },
  "language_info": {
   "codemirror_mode": {
    "name": "ipython",
    "version": 3
   },
   "file_extension": ".py",
   "mimetype": "text/x-python",
   "name": "python",
   "nbconvert_exporter": "python",
   "pygments_lexer": "ipython3",
   "version": "3.12.1"
  }
 },
 "nbformat": 4,
 "nbformat_minor": 2
}
