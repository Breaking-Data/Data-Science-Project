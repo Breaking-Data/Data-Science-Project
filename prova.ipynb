{
 "cells": [
  {
   "cell_type": "code",
   "execution_count": 1,
   "metadata": {},
   "outputs": [],
   "source": [
    "from pandas import DataFrame, read_sql\n",
    "from handler import *\n",
    "from sqlite3 import connect\n",
    "import pandas as pd\n",
    "from mashup import BasicMashup\n",
    "from cultural_objects import *\n"
   ]
  },
  {
   "cell_type": "code",
   "execution_count": 2,
   "metadata": {},
   "outputs": [
    {
     "data": {
      "text/plain": [
       "True"
      ]
     },
     "execution_count": 2,
     "metadata": {},
     "output_type": "execute_result"
    }
   ],
   "source": [
    "grp_endpoint = \"http://10.201.16.211:9999/blazegraph/\"\n",
    "metadata = MetadataUploadHandler()\n",
    "metadata.setDbPathOrUrl(grp_endpoint)\n",
    "metadata.pushDataToDb(\"data/meta.csv\")\n",
    "\n",
    "metadata_qh = MetadataQueryHandler()\n",
    "metadata_qh.setDbPathOrUrl(\"http://10.201.16.211:9999/blazegraph/\")\n",
    "\n"
   ]
  },
  {
   "cell_type": "code",
   "execution_count": 22,
   "metadata": {},
   "outputs": [
    {
     "data": {
      "text/plain": [
       "'Agnese, Battista'"
      ]
     },
     "execution_count": 22,
     "metadata": {},
     "output_type": "execute_result"
    }
   ],
   "source": [
    "mashup = BasicMashup()\n",
    "mashup.addMetadataHandler(metadata_qh)\n",
    "\n",
    "\n",
    "mashup.getAllCulturalHeritageObjects()[1].getAuthors()[0].name"
   ]
  }
 ],
 "metadata": {
  "kernelspec": {
   "display_name": "Python 3",
   "language": "python",
   "name": "python3"
  },
  "language_info": {
   "codemirror_mode": {
    "name": "ipython",
    "version": 3
   },
   "file_extension": ".py",
   "mimetype": "text/x-python",
   "name": "python",
   "nbconvert_exporter": "python",
   "pygments_lexer": "ipython3",
   "version": "3.12.1"
  }
 },
 "nbformat": 4,
 "nbformat_minor": 2
}
