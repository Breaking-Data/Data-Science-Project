{
 "cells": [
  {
   "cell_type": "code",
   "execution_count": 21,
   "metadata": {},
   "outputs": [],
   "source": [
    "from pandas import DataFrame, read_sql\n",
    "from handler import *\n",
    "from sqlite3 import connect\n",
    "import pandas as pd\n",
    "from mashup import BasicMashup\n",
    "from cultural_objects import *\n"
   ]
  },
  {
   "cell_type": "code",
   "execution_count": 22,
   "metadata": {},
   "outputs": [
    {
     "data": {
      "text/plain": [
       "True"
      ]
     },
     "execution_count": 22,
     "metadata": {},
     "output_type": "execute_result"
    }
   ],
   "source": [
    "# upload metadata\n",
    "grp_endpoint = \"http://192.168.1.39:9999/blazegraph/\"\n",
    "metadata = MetadataUploadHandler()\n",
    "metadata.setDbPathOrUrl(grp_endpoint)\n",
    "metadata.pushDataToDb(\"data/meta.csv\")\n",
    "\n",
    "# upload process\n",
    "rel_path = \"relational.db\"\n",
    "process = ProcessDataUploadHandler()\n",
    "process.setDbPathOrUrl(rel_path)\n",
    "process.pushDataToDb(\"data/process.json\")\n",
    "\n",
    "# create query handlers\n",
    "metadata_qh = MetadataQueryHandler()\n",
    "metadata_qh.setDbPathOrUrl(\"http://192.168.1.39:9999/blazegraph/\")\n",
    "\n",
    "process_qh = ProcessDataQueryHandler()\n",
    "process_qh.setDbPathOrUrl(rel_path)"
   ]
  },
  {
   "cell_type": "code",
   "execution_count": 23,
   "metadata": {},
   "outputs": [
    {
     "data": {
      "text/plain": [
       "98"
      ]
     },
     "execution_count": 23,
     "metadata": {},
     "output_type": "execute_result"
    }
   ],
   "source": [
    "df = process_qh.getAllActivities()\n",
    "filtered_df = df[df[\"responsibleInstitute\"] == \"Philology\"]\n",
    "len(filtered_df)"
   ]
  },
  {
   "cell_type": "code",
   "execution_count": 24,
   "metadata": {},
   "outputs": [
    {
     "data": {
      "text/plain": [
       "True"
      ]
     },
     "execution_count": 24,
     "metadata": {},
     "output_type": "execute_result"
    }
   ],
   "source": [
    "acquistion = Acquisition('meo', 'coco', 'ciao')\n",
    "isinstance(acquistion, Acquisition)"
   ]
  },
  {
   "cell_type": "code",
   "execution_count": 25,
   "metadata": {},
   "outputs": [
    {
     "data": {
      "text/plain": [
       "'Mountain avens'"
      ]
     },
     "execution_count": 25,
     "metadata": {},
     "output_type": "execute_result"
    }
   ],
   "source": [
    "mashup = BasicMashup()\n",
    "mashup.addMetadataHandler(metadata_qh)\n",
    "mashup.addProcessHandler(process_qh)\n",
    "\n",
    "\n",
    "ob = mashup.getEntityById(\"23\")\n",
    "ob.title"
   ]
  }
 ],
 "metadata": {
  "kernelspec": {
   "display_name": "Python 3",
   "language": "python",
   "name": "python3"
  },
  "language_info": {
   "codemirror_mode": {
    "name": "ipython",
    "version": 3
   },
   "file_extension": ".py",
   "mimetype": "text/x-python",
   "name": "python",
   "nbconvert_exporter": "python",
   "pygments_lexer": "ipython3",
   "version": "3.12.1"
  }
 },
 "nbformat": 4,
 "nbformat_minor": 2
}
