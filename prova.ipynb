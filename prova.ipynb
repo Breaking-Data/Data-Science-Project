{
 "cells": [
  {
   "cell_type": "code",
   "execution_count": 1,
   "metadata": {},
   "outputs": [],
   "source": [
    "from pandas import DataFrame, read_sql\n",
    "from handler import *\n",
    "from sqlite3 import connect\n",
    "import pandas as pd\n",
    "from mashup import *\n",
    "import cultural_objects\n",
    "from cultural_objects import *"
   ]
  },
  {
   "cell_type": "code",
   "execution_count": 2,
   "metadata": {},
   "outputs": [
    {
     "name": "stdout",
     "output_type": "stream",
     "text": [
      "True\n"
     ]
    },
    {
     "data": {
      "text/plain": [
       "True"
      ]
     },
     "execution_count": 2,
     "metadata": {},
     "output_type": "execute_result"
    }
   ],
   "source": [
    "# upload metadata\n",
    "grp_endpoint = \" http://10.201.41.103:9999/blazegraph/\"\n",
    "metadata = MetadataUploadHandler()\n",
    "metadata.setDbPathOrUrl(grp_endpoint)\n",
    "print(metadata.pushDataToDb(\"data/meta.csv\"))\n",
    "\n",
    "# upload process\n",
    "rel_path = \"relational.db\"\n",
    "process = ProcessDataUploadHandler()\n",
    "process.setDbPathOrUrl(rel_path)\n",
    "process.pushDataToDb(\"data/process.json\")\n",
    "\n",
    "# create query handlers\n",
    "metadata_qh = MetadataQueryHandler()\n",
    "metadata_qh.setDbPathOrUrl(\" http://10.201.41.103:9999/blazegraph/\")\n",
    "\n",
    "process_qh = ProcessDataQueryHandler()\n",
    "process_qh.setDbPathOrUrl(rel_path)"
   ]
  },
  {
   "cell_type": "code",
   "execution_count": 4,
   "metadata": {},
   "outputs": [
    {
     "name": "stdout",
     "output_type": "stream",
     "text": [
      "<cultural_objects.Acquisition object at 0x11b6d5a90>\n",
      "2\n",
      "<cultural_objects.Exporting object at 0x11b6d4b90>\n",
      "2\n",
      "<cultural_objects.Modelling object at 0x11b6671d0>\n",
      "2\n",
      "<cultural_objects.Optimising object at 0x11b6d6060>\n",
      "2\n",
      "<cultural_objects.Processing object at 0x11b6d75f0>\n",
      "2\n",
      "<cultural_objects.Acquisition object at 0x11b664dd0>\n",
      "4\n",
      "<cultural_objects.Exporting object at 0x11b6d7590>\n",
      "4\n",
      "<cultural_objects.Modelling object at 0x11b6d5700>\n",
      "4\n",
      "<cultural_objects.Optimising object at 0x11b6d6c90>\n",
      "4\n",
      "<cultural_objects.Processing object at 0x11b6d77d0>\n",
      "4\n"
     ]
    }
   ],
   "source": [
    "advmashup = AdvancedMashup()\n",
    "advmashup.addMetadataHandler(metadata_qh)\n",
    "advmashup.addProcessHandler(process_qh)\n",
    "\n",
    "counter = 0\n",
    "for obj in advmashup.getActivitiesOnObjectsAuthoredBy(\"VIAF:100219162\"):\n",
    "    print(obj)\n",
    "    print(obj.refersTo().id)"
   ]
  }
 ],
 "metadata": {
  "kernelspec": {
   "display_name": "Python 3",
   "language": "python",
   "name": "python3"
  },
  "language_info": {
   "codemirror_mode": {
    "name": "ipython",
    "version": 3
   },
   "file_extension": ".py",
   "mimetype": "text/x-python",
   "name": "python",
   "nbconvert_exporter": "python",
   "pygments_lexer": "ipython3",
   "version": "3.12.1"
  }
 },
 "nbformat": 4,
 "nbformat_minor": 2
}
